{
 "cells": [
  {
   "cell_type": "code",
   "execution_count": 1,
   "id": "37fcf2af",
   "metadata": {
    "execution": {
     "iopub.execute_input": "2023-12-03T12:24:15.219732Z",
     "iopub.status.busy": "2023-12-03T12:24:15.218924Z",
     "iopub.status.idle": "2023-12-03T12:24:15.703603Z",
     "shell.execute_reply": "2023-12-03T12:24:15.702500Z"
    },
    "papermill": {
     "duration": 0.500866,
     "end_time": "2023-12-03T12:24:15.706786",
     "exception": false,
     "start_time": "2023-12-03T12:24:15.205920",
     "status": "completed"
    },
    "tags": []
   },
   "outputs": [],
   "source": [
    "import pandas as pd\n",
    "import numpy as np"
   ]
  },
  {
   "cell_type": "code",
   "execution_count": 2,
   "id": "4355bd16",
   "metadata": {
    "execution": {
     "iopub.execute_input": "2023-12-03T12:24:15.731166Z",
     "iopub.status.busy": "2023-12-03T12:24:15.730523Z",
     "iopub.status.idle": "2023-12-03T12:24:19.437435Z",
     "shell.execute_reply": "2023-12-03T12:24:19.436135Z"
    },
    "papermill": {
     "duration": 3.723441,
     "end_time": "2023-12-03T12:24:19.440667",
     "exception": false,
     "start_time": "2023-12-03T12:24:15.717226",
     "status": "completed"
    },
    "tags": []
   },
   "outputs": [],
   "source": [
    "ds=pd.read_csv('/kaggle/input/email-spam-classification-dataset/combined_data.csv')"
   ]
  },
  {
   "cell_type": "code",
   "execution_count": 3,
   "id": "40ff91df",
   "metadata": {
    "execution": {
     "iopub.execute_input": "2023-12-03T12:24:19.462555Z",
     "iopub.status.busy": "2023-12-03T12:24:19.462074Z",
     "iopub.status.idle": "2023-12-03T12:24:19.474753Z",
     "shell.execute_reply": "2023-12-03T12:24:19.473507Z"
    },
    "papermill": {
     "duration": 0.026811,
     "end_time": "2023-12-03T12:24:19.477468",
     "exception": false,
     "start_time": "2023-12-03T12:24:19.450657",
     "status": "completed"
    },
    "tags": []
   },
   "outputs": [
    {
     "data": {
      "text/plain": [
       "(83448, 2)"
      ]
     },
     "execution_count": 3,
     "metadata": {},
     "output_type": "execute_result"
    }
   ],
   "source": [
    "ds.shape"
   ]
  },
  {
   "cell_type": "code",
   "execution_count": 4,
   "id": "6be6bf4c",
   "metadata": {
    "execution": {
     "iopub.execute_input": "2023-12-03T12:24:19.500191Z",
     "iopub.status.busy": "2023-12-03T12:24:19.499237Z",
     "iopub.status.idle": "2023-12-03T12:24:19.524432Z",
     "shell.execute_reply": "2023-12-03T12:24:19.523168Z"
    },
    "papermill": {
     "duration": 0.040091,
     "end_time": "2023-12-03T12:24:19.527625",
     "exception": false,
     "start_time": "2023-12-03T12:24:19.487534",
     "status": "completed"
    },
    "tags": []
   },
   "outputs": [
    {
     "data": {
      "text/html": [
       "<div>\n",
       "<style scoped>\n",
       "    .dataframe tbody tr th:only-of-type {\n",
       "        vertical-align: middle;\n",
       "    }\n",
       "\n",
       "    .dataframe tbody tr th {\n",
       "        vertical-align: top;\n",
       "    }\n",
       "\n",
       "    .dataframe thead th {\n",
       "        text-align: right;\n",
       "    }\n",
       "</style>\n",
       "<table border=\"1\" class=\"dataframe\">\n",
       "  <thead>\n",
       "    <tr style=\"text-align: right;\">\n",
       "      <th></th>\n",
       "      <th>label</th>\n",
       "      <th>text</th>\n",
       "    </tr>\n",
       "  </thead>\n",
       "  <tbody>\n",
       "    <tr>\n",
       "      <th>0</th>\n",
       "      <td>1</td>\n",
       "      <td>ounce feather bowl hummingbird opec moment ala...</td>\n",
       "    </tr>\n",
       "    <tr>\n",
       "      <th>1</th>\n",
       "      <td>1</td>\n",
       "      <td>wulvob get your medircations online qnb ikud v...</td>\n",
       "    </tr>\n",
       "    <tr>\n",
       "      <th>2</th>\n",
       "      <td>0</td>\n",
       "      <td>computer connection from cnn com wednesday es...</td>\n",
       "    </tr>\n",
       "    <tr>\n",
       "      <th>3</th>\n",
       "      <td>1</td>\n",
       "      <td>university degree obtain a prosperous future m...</td>\n",
       "    </tr>\n",
       "    <tr>\n",
       "      <th>4</th>\n",
       "      <td>0</td>\n",
       "      <td>thanks for all your answers guys i know i shou...</td>\n",
       "    </tr>\n",
       "  </tbody>\n",
       "</table>\n",
       "</div>"
      ],
      "text/plain": [
       "   label                                               text\n",
       "0      1  ounce feather bowl hummingbird opec moment ala...\n",
       "1      1  wulvob get your medircations online qnb ikud v...\n",
       "2      0   computer connection from cnn com wednesday es...\n",
       "3      1  university degree obtain a prosperous future m...\n",
       "4      0  thanks for all your answers guys i know i shou..."
      ]
     },
     "execution_count": 4,
     "metadata": {},
     "output_type": "execute_result"
    }
   ],
   "source": [
    "ds.head()"
   ]
  },
  {
   "cell_type": "code",
   "execution_count": 5,
   "id": "f3a8879a",
   "metadata": {
    "execution": {
     "iopub.execute_input": "2023-12-03T12:24:19.551040Z",
     "iopub.status.busy": "2023-12-03T12:24:19.550117Z",
     "iopub.status.idle": "2023-12-03T12:24:19.603009Z",
     "shell.execute_reply": "2023-12-03T12:24:19.601765Z"
    },
    "papermill": {
     "duration": 0.068124,
     "end_time": "2023-12-03T12:24:19.606093",
     "exception": false,
     "start_time": "2023-12-03T12:24:19.537969",
     "status": "completed"
    },
    "tags": []
   },
   "outputs": [
    {
     "name": "stdout",
     "output_type": "stream",
     "text": [
      "<class 'pandas.core.frame.DataFrame'>\n",
      "RangeIndex: 83448 entries, 0 to 83447\n",
      "Data columns (total 2 columns):\n",
      " #   Column  Non-Null Count  Dtype \n",
      "---  ------  --------------  ----- \n",
      " 0   label   83448 non-null  int64 \n",
      " 1   text    83448 non-null  object\n",
      "dtypes: int64(1), object(1)\n",
      "memory usage: 1.3+ MB\n"
     ]
    }
   ],
   "source": [
    "ds.info()"
   ]
  },
  {
   "cell_type": "code",
   "execution_count": 6,
   "id": "05c138e6",
   "metadata": {
    "execution": {
     "iopub.execute_input": "2023-12-03T12:24:19.629157Z",
     "iopub.status.busy": "2023-12-03T12:24:19.628631Z",
     "iopub.status.idle": "2023-12-03T12:24:19.635768Z",
     "shell.execute_reply": "2023-12-03T12:24:19.634882Z"
    },
    "papermill": {
     "duration": 0.021568,
     "end_time": "2023-12-03T12:24:19.637996",
     "exception": false,
     "start_time": "2023-12-03T12:24:19.616428",
     "status": "completed"
    },
    "tags": []
   },
   "outputs": [
    {
     "data": {
      "text/plain": [
       "Index(['label', 'text'], dtype='object')"
      ]
     },
     "execution_count": 6,
     "metadata": {},
     "output_type": "execute_result"
    }
   ],
   "source": [
    "ds.columns"
   ]
  },
  {
   "cell_type": "code",
   "execution_count": 7,
   "id": "3e65d9cd",
   "metadata": {
    "execution": {
     "iopub.execute_input": "2023-12-03T12:24:19.661208Z",
     "iopub.status.busy": "2023-12-03T12:24:19.660685Z",
     "iopub.status.idle": "2023-12-03T12:24:19.677644Z",
     "shell.execute_reply": "2023-12-03T12:24:19.676794Z"
    },
    "papermill": {
     "duration": 0.031829,
     "end_time": "2023-12-03T12:24:19.680199",
     "exception": false,
     "start_time": "2023-12-03T12:24:19.648370",
     "status": "completed"
    },
    "tags": []
   },
   "outputs": [
    {
     "data": {
      "text/html": [
       "<div>\n",
       "<style scoped>\n",
       "    .dataframe tbody tr th:only-of-type {\n",
       "        vertical-align: middle;\n",
       "    }\n",
       "\n",
       "    .dataframe tbody tr th {\n",
       "        vertical-align: top;\n",
       "    }\n",
       "\n",
       "    .dataframe thead th {\n",
       "        text-align: right;\n",
       "    }\n",
       "</style>\n",
       "<table border=\"1\" class=\"dataframe\">\n",
       "  <thead>\n",
       "    <tr style=\"text-align: right;\">\n",
       "      <th></th>\n",
       "      <th>label</th>\n",
       "      <th>text</th>\n",
       "    </tr>\n",
       "  </thead>\n",
       "  <tbody>\n",
       "    <tr>\n",
       "      <th>12015</th>\n",
       "      <td>1</td>\n",
       "      <td>i bring down a bit of its light to listen by t...</td>\n",
       "    </tr>\n",
       "    <tr>\n",
       "      <th>80217</th>\n",
       "      <td>1</td>\n",
       "      <td>the world has gone wireless and mobile airwave...</td>\n",
       "    </tr>\n",
       "    <tr>\n",
       "      <th>43940</th>\n",
       "      <td>1</td>\n",
       "      <td>don't decline the chance  anatrim  the up to...</td>\n",
       "    </tr>\n",
       "    <tr>\n",
       "      <th>48272</th>\n",
       "      <td>0</td>\n",
       "      <td>oneok inc sec filing alert oneok inc has filed...</td>\n",
       "    </tr>\n",
       "    <tr>\n",
       "      <th>81687</th>\n",
       "      <td>1</td>\n",
       "      <td>from : ahmed seiko\\nemail : ahmed _ se @ arabt...</td>\n",
       "    </tr>\n",
       "  </tbody>\n",
       "</table>\n",
       "</div>"
      ],
      "text/plain": [
       "       label                                               text\n",
       "12015      1  i bring down a bit of its light to listen by t...\n",
       "80217      1  the world has gone wireless and mobile airwave...\n",
       "43940      1  don't decline the chance  anatrim  the up to...\n",
       "48272      0  oneok inc sec filing alert oneok inc has filed...\n",
       "81687      1  from : ahmed seiko\\nemail : ahmed _ se @ arabt..."
      ]
     },
     "execution_count": 7,
     "metadata": {},
     "output_type": "execute_result"
    }
   ],
   "source": [
    "ds.sample(5)"
   ]
  },
  {
   "cell_type": "code",
   "execution_count": 8,
   "id": "1bf6b433",
   "metadata": {
    "execution": {
     "iopub.execute_input": "2023-12-03T12:24:19.704626Z",
     "iopub.status.busy": "2023-12-03T12:24:19.703841Z",
     "iopub.status.idle": "2023-12-03T12:24:19.732309Z",
     "shell.execute_reply": "2023-12-03T12:24:19.731322Z"
    },
    "papermill": {
     "duration": 0.043872,
     "end_time": "2023-12-03T12:24:19.734803",
     "exception": false,
     "start_time": "2023-12-03T12:24:19.690931",
     "status": "completed"
    },
    "tags": []
   },
   "outputs": [
    {
     "data": {
      "text/plain": [
       "label    0\n",
       "text     0\n",
       "dtype: int64"
      ]
     },
     "execution_count": 8,
     "metadata": {},
     "output_type": "execute_result"
    }
   ],
   "source": [
    "ds.isnull().sum()"
   ]
  },
  {
   "cell_type": "code",
   "execution_count": 9,
   "id": "6b34b117",
   "metadata": {
    "execution": {
     "iopub.execute_input": "2023-12-03T12:24:19.762082Z",
     "iopub.status.busy": "2023-12-03T12:24:19.761040Z",
     "iopub.status.idle": "2023-12-03T12:24:19.771991Z",
     "shell.execute_reply": "2023-12-03T12:24:19.770822Z"
    },
    "papermill": {
     "duration": 0.027296,
     "end_time": "2023-12-03T12:24:19.774511",
     "exception": false,
     "start_time": "2023-12-03T12:24:19.747215",
     "status": "completed"
    },
    "tags": []
   },
   "outputs": [
    {
     "data": {
      "text/plain": [
       "array([1, 0])"
      ]
     },
     "execution_count": 9,
     "metadata": {},
     "output_type": "execute_result"
    }
   ],
   "source": [
    "ds['label'].unique()"
   ]
  },
  {
   "cell_type": "code",
   "execution_count": 10,
   "id": "c80ee057",
   "metadata": {
    "execution": {
     "iopub.execute_input": "2023-12-03T12:24:19.799554Z",
     "iopub.status.busy": "2023-12-03T12:24:19.798247Z",
     "iopub.status.idle": "2023-12-03T12:24:21.097052Z",
     "shell.execute_reply": "2023-12-03T12:24:21.095564Z"
    },
    "papermill": {
     "duration": 1.314752,
     "end_time": "2023-12-03T12:24:21.100447",
     "exception": false,
     "start_time": "2023-12-03T12:24:19.785695",
     "status": "completed"
    },
    "tags": []
   },
   "outputs": [],
   "source": [
    "from sklearn.model_selection import train_test_split"
   ]
  },
  {
   "cell_type": "code",
   "execution_count": 11,
   "id": "9562bd12",
   "metadata": {
    "execution": {
     "iopub.execute_input": "2023-12-03T12:24:21.129843Z",
     "iopub.status.busy": "2023-12-03T12:24:21.128955Z",
     "iopub.status.idle": "2023-12-03T12:24:21.159068Z",
     "shell.execute_reply": "2023-12-03T12:24:21.157698Z"
    },
    "papermill": {
     "duration": 0.046793,
     "end_time": "2023-12-03T12:24:21.162322",
     "exception": false,
     "start_time": "2023-12-03T12:24:21.115529",
     "status": "completed"
    },
    "tags": []
   },
   "outputs": [],
   "source": [
    "x_train,x_test,y_train,y_test=train_test_split(ds.text,ds.label,test_size=0.3)"
   ]
  },
  {
   "cell_type": "code",
   "execution_count": 12,
   "id": "5e21ffef",
   "metadata": {
    "execution": {
     "iopub.execute_input": "2023-12-03T12:24:21.187352Z",
     "iopub.status.busy": "2023-12-03T12:24:21.186869Z",
     "iopub.status.idle": "2023-12-03T12:24:21.197195Z",
     "shell.execute_reply": "2023-12-03T12:24:21.195812Z"
    },
    "papermill": {
     "duration": 0.026348,
     "end_time": "2023-12-03T12:24:21.199839",
     "exception": false,
     "start_time": "2023-12-03T12:24:21.173491",
     "status": "completed"
    },
    "tags": []
   },
   "outputs": [
    {
     "data": {
      "text/plain": [
       "31282    on monday escapenumber april escapenumber esca...\n",
       "13502    sehr geehrte investoren hier eine mitteilung d...\n",
       "37554    michelle ,\\nas discussed we are planning 200 l...\n",
       "68613    send msn list mailing list submissions to msn ...\n",
       "23370    hi there i am able to create a multidimensiona...\n",
       "                               ...                        \n",
       "26327    this one is shoe in to double by end of week h...\n",
       "71718    hello all i am once again analyzing patient su...\n",
       "23042    the high whites spread over the buried earth t...\n",
       "46887    hi all i am a freshman of r but i am intereste...\n",
       "82196    thinking of breathing new life into your busin...\n",
       "Name: text, Length: 58413, dtype: object"
      ]
     },
     "execution_count": 12,
     "metadata": {},
     "output_type": "execute_result"
    }
   ],
   "source": [
    "x_train"
   ]
  },
  {
   "cell_type": "code",
   "execution_count": 13,
   "id": "6eb6e8f3",
   "metadata": {
    "execution": {
     "iopub.execute_input": "2023-12-03T12:24:21.225629Z",
     "iopub.status.busy": "2023-12-03T12:24:21.225117Z",
     "iopub.status.idle": "2023-12-03T12:24:21.243943Z",
     "shell.execute_reply": "2023-12-03T12:24:21.242887Z"
    },
    "papermill": {
     "duration": 0.035079,
     "end_time": "2023-12-03T12:24:21.246908",
     "exception": false,
     "start_time": "2023-12-03T12:24:21.211829",
     "status": "completed"
    },
    "tags": []
   },
   "outputs": [],
   "source": [
    "from sklearn.feature_extraction.text import CountVectorizer"
   ]
  },
  {
   "cell_type": "code",
   "execution_count": 14,
   "id": "51efa987",
   "metadata": {
    "execution": {
     "iopub.execute_input": "2023-12-03T12:24:21.272450Z",
     "iopub.status.busy": "2023-12-03T12:24:21.271515Z",
     "iopub.status.idle": "2023-12-03T12:24:21.277368Z",
     "shell.execute_reply": "2023-12-03T12:24:21.276070Z"
    },
    "papermill": {
     "duration": 0.02163,
     "end_time": "2023-12-03T12:24:21.279968",
     "exception": false,
     "start_time": "2023-12-03T12:24:21.258338",
     "status": "completed"
    },
    "tags": []
   },
   "outputs": [],
   "source": [
    "vectorizer=CountVectorizer()"
   ]
  },
  {
   "cell_type": "code",
   "execution_count": 15,
   "id": "ed7330fd",
   "metadata": {
    "execution": {
     "iopub.execute_input": "2023-12-03T12:24:21.305587Z",
     "iopub.status.busy": "2023-12-03T12:24:21.304694Z",
     "iopub.status.idle": "2023-12-03T12:24:41.421750Z",
     "shell.execute_reply": "2023-12-03T12:24:41.420470Z"
    },
    "papermill": {
     "duration": 20.133165,
     "end_time": "2023-12-03T12:24:41.424863",
     "exception": false,
     "start_time": "2023-12-03T12:24:21.291698",
     "status": "completed"
    },
    "tags": []
   },
   "outputs": [],
   "source": [
    "x_train_count=vectorizer.fit_transform(x_train.values)"
   ]
  },
  {
   "cell_type": "code",
   "execution_count": 16,
   "id": "86b52fba",
   "metadata": {
    "execution": {
     "iopub.execute_input": "2023-12-03T12:24:41.449647Z",
     "iopub.status.busy": "2023-12-03T12:24:41.449191Z",
     "iopub.status.idle": "2023-12-03T12:24:41.457143Z",
     "shell.execute_reply": "2023-12-03T12:24:41.455941Z"
    },
    "papermill": {
     "duration": 0.023402,
     "end_time": "2023-12-03T12:24:41.459657",
     "exception": false,
     "start_time": "2023-12-03T12:24:41.436255",
     "status": "completed"
    },
    "tags": []
   },
   "outputs": [
    {
     "data": {
      "text/plain": [
       "(58413, 257224)"
      ]
     },
     "execution_count": 16,
     "metadata": {},
     "output_type": "execute_result"
    }
   ],
   "source": [
    "x_train_count.shape"
   ]
  },
  {
   "cell_type": "code",
   "execution_count": 17,
   "id": "55dc27c6",
   "metadata": {
    "execution": {
     "iopub.execute_input": "2023-12-03T12:24:41.486044Z",
     "iopub.status.busy": "2023-12-03T12:24:41.485541Z",
     "iopub.status.idle": "2023-12-03T12:24:41.493747Z",
     "shell.execute_reply": "2023-12-03T12:24:41.492065Z"
    },
    "papermill": {
     "duration": 0.024861,
     "end_time": "2023-12-03T12:24:41.496362",
     "exception": false,
     "start_time": "2023-12-03T12:24:41.471501",
     "status": "completed"
    },
    "tags": []
   },
   "outputs": [
    {
     "data": {
      "text/plain": [
       "<58413x257224 sparse matrix of type '<class 'numpy.int64'>'\n",
       "\twith 7039605 stored elements in Compressed Sparse Row format>"
      ]
     },
     "execution_count": 17,
     "metadata": {},
     "output_type": "execute_result"
    }
   ],
   "source": [
    "x_train_count"
   ]
  },
  {
   "cell_type": "code",
   "execution_count": 18,
   "id": "4c2f1b60",
   "metadata": {
    "execution": {
     "iopub.execute_input": "2023-12-03T12:24:41.521628Z",
     "iopub.status.busy": "2023-12-03T12:24:41.521081Z",
     "iopub.status.idle": "2023-12-03T12:24:41.527329Z",
     "shell.execute_reply": "2023-12-03T12:24:41.526476Z"
    },
    "papermill": {
     "duration": 0.022097,
     "end_time": "2023-12-03T12:24:41.529970",
     "exception": false,
     "start_time": "2023-12-03T12:24:41.507873",
     "status": "completed"
    },
    "tags": []
   },
   "outputs": [
    {
     "data": {
      "text/plain": [
       "(58413,)"
      ]
     },
     "execution_count": 18,
     "metadata": {},
     "output_type": "execute_result"
    }
   ],
   "source": [
    "y_train.shape"
   ]
  },
  {
   "cell_type": "code",
   "execution_count": 19,
   "id": "50b3fd72",
   "metadata": {
    "execution": {
     "iopub.execute_input": "2023-12-03T12:24:41.555867Z",
     "iopub.status.busy": "2023-12-03T12:24:41.554958Z",
     "iopub.status.idle": "2023-12-03T12:24:41.563321Z",
     "shell.execute_reply": "2023-12-03T12:24:41.562137Z"
    },
    "papermill": {
     "duration": 0.024302,
     "end_time": "2023-12-03T12:24:41.565985",
     "exception": false,
     "start_time": "2023-12-03T12:24:41.541683",
     "status": "completed"
    },
    "tags": []
   },
   "outputs": [],
   "source": [
    "from sklearn.naive_bayes import MultinomialNB,GaussianNB"
   ]
  },
  {
   "cell_type": "code",
   "execution_count": 20,
   "id": "af286e09",
   "metadata": {
    "execution": {
     "iopub.execute_input": "2023-12-03T12:24:41.592877Z",
     "iopub.status.busy": "2023-12-03T12:24:41.592329Z",
     "iopub.status.idle": "2023-12-03T12:24:41.715358Z",
     "shell.execute_reply": "2023-12-03T12:24:41.713953Z"
    },
    "papermill": {
     "duration": 0.139976,
     "end_time": "2023-12-03T12:24:41.718351",
     "exception": false,
     "start_time": "2023-12-03T12:24:41.578375",
     "status": "completed"
    },
    "tags": []
   },
   "outputs": [
    {
     "data": {
      "text/html": [
       "<style>#sk-container-id-1 {color: black;background-color: white;}#sk-container-id-1 pre{padding: 0;}#sk-container-id-1 div.sk-toggleable {background-color: white;}#sk-container-id-1 label.sk-toggleable__label {cursor: pointer;display: block;width: 100%;margin-bottom: 0;padding: 0.3em;box-sizing: border-box;text-align: center;}#sk-container-id-1 label.sk-toggleable__label-arrow:before {content: \"▸\";float: left;margin-right: 0.25em;color: #696969;}#sk-container-id-1 label.sk-toggleable__label-arrow:hover:before {color: black;}#sk-container-id-1 div.sk-estimator:hover label.sk-toggleable__label-arrow:before {color: black;}#sk-container-id-1 div.sk-toggleable__content {max-height: 0;max-width: 0;overflow: hidden;text-align: left;background-color: #f0f8ff;}#sk-container-id-1 div.sk-toggleable__content pre {margin: 0.2em;color: black;border-radius: 0.25em;background-color: #f0f8ff;}#sk-container-id-1 input.sk-toggleable__control:checked~div.sk-toggleable__content {max-height: 200px;max-width: 100%;overflow: auto;}#sk-container-id-1 input.sk-toggleable__control:checked~label.sk-toggleable__label-arrow:before {content: \"▾\";}#sk-container-id-1 div.sk-estimator input.sk-toggleable__control:checked~label.sk-toggleable__label {background-color: #d4ebff;}#sk-container-id-1 div.sk-label input.sk-toggleable__control:checked~label.sk-toggleable__label {background-color: #d4ebff;}#sk-container-id-1 input.sk-hidden--visually {border: 0;clip: rect(1px 1px 1px 1px);clip: rect(1px, 1px, 1px, 1px);height: 1px;margin: -1px;overflow: hidden;padding: 0;position: absolute;width: 1px;}#sk-container-id-1 div.sk-estimator {font-family: monospace;background-color: #f0f8ff;border: 1px dotted black;border-radius: 0.25em;box-sizing: border-box;margin-bottom: 0.5em;}#sk-container-id-1 div.sk-estimator:hover {background-color: #d4ebff;}#sk-container-id-1 div.sk-parallel-item::after {content: \"\";width: 100%;border-bottom: 1px solid gray;flex-grow: 1;}#sk-container-id-1 div.sk-label:hover label.sk-toggleable__label {background-color: #d4ebff;}#sk-container-id-1 div.sk-serial::before {content: \"\";position: absolute;border-left: 1px solid gray;box-sizing: border-box;top: 0;bottom: 0;left: 50%;z-index: 0;}#sk-container-id-1 div.sk-serial {display: flex;flex-direction: column;align-items: center;background-color: white;padding-right: 0.2em;padding-left: 0.2em;position: relative;}#sk-container-id-1 div.sk-item {position: relative;z-index: 1;}#sk-container-id-1 div.sk-parallel {display: flex;align-items: stretch;justify-content: center;background-color: white;position: relative;}#sk-container-id-1 div.sk-item::before, #sk-container-id-1 div.sk-parallel-item::before {content: \"\";position: absolute;border-left: 1px solid gray;box-sizing: border-box;top: 0;bottom: 0;left: 50%;z-index: -1;}#sk-container-id-1 div.sk-parallel-item {display: flex;flex-direction: column;z-index: 1;position: relative;background-color: white;}#sk-container-id-1 div.sk-parallel-item:first-child::after {align-self: flex-end;width: 50%;}#sk-container-id-1 div.sk-parallel-item:last-child::after {align-self: flex-start;width: 50%;}#sk-container-id-1 div.sk-parallel-item:only-child::after {width: 0;}#sk-container-id-1 div.sk-dashed-wrapped {border: 1px dashed gray;margin: 0 0.4em 0.5em 0.4em;box-sizing: border-box;padding-bottom: 0.4em;background-color: white;}#sk-container-id-1 div.sk-label label {font-family: monospace;font-weight: bold;display: inline-block;line-height: 1.2em;}#sk-container-id-1 div.sk-label-container {text-align: center;}#sk-container-id-1 div.sk-container {/* jupyter's `normalize.less` sets `[hidden] { display: none; }` but bootstrap.min.css set `[hidden] { display: none !important; }` so we also need the `!important` here to be able to override the default hidden behavior on the sphinx rendered scikit-learn.org. See: https://github.com/scikit-learn/scikit-learn/issues/21755 */display: inline-block !important;position: relative;}#sk-container-id-1 div.sk-text-repr-fallback {display: none;}</style><div id=\"sk-container-id-1\" class=\"sk-top-container\"><div class=\"sk-text-repr-fallback\"><pre>MultinomialNB()</pre><b>In a Jupyter environment, please rerun this cell to show the HTML representation or trust the notebook. <br />On GitHub, the HTML representation is unable to render, please try loading this page with nbviewer.org.</b></div><div class=\"sk-container\" hidden><div class=\"sk-item\"><div class=\"sk-estimator sk-toggleable\"><input class=\"sk-toggleable__control sk-hidden--visually\" id=\"sk-estimator-id-1\" type=\"checkbox\" checked><label for=\"sk-estimator-id-1\" class=\"sk-toggleable__label sk-toggleable__label-arrow\">MultinomialNB</label><div class=\"sk-toggleable__content\"><pre>MultinomialNB()</pre></div></div></div></div></div>"
      ],
      "text/plain": [
       "MultinomialNB()"
      ]
     },
     "execution_count": 20,
     "metadata": {},
     "output_type": "execute_result"
    }
   ],
   "source": [
    "model=MultinomialNB()\n",
    "model.fit(x_train_count,y_train)"
   ]
  },
  {
   "cell_type": "code",
   "execution_count": 21,
   "id": "92f0d281",
   "metadata": {
    "execution": {
     "iopub.execute_input": "2023-12-03T12:24:41.744707Z",
     "iopub.status.busy": "2023-12-03T12:24:41.744106Z",
     "iopub.status.idle": "2023-12-03T12:24:49.919868Z",
     "shell.execute_reply": "2023-12-03T12:24:49.918472Z"
    },
    "papermill": {
     "duration": 8.193013,
     "end_time": "2023-12-03T12:24:49.923346",
     "exception": false,
     "start_time": "2023-12-03T12:24:41.730333",
     "status": "completed"
    },
    "tags": []
   },
   "outputs": [],
   "source": [
    "x_test_count=vectorizer.transform(x_test)"
   ]
  },
  {
   "cell_type": "code",
   "execution_count": 22,
   "id": "41be7742",
   "metadata": {
    "execution": {
     "iopub.execute_input": "2023-12-03T12:24:49.950026Z",
     "iopub.status.busy": "2023-12-03T12:24:49.949490Z",
     "iopub.status.idle": "2023-12-03T12:24:50.006573Z",
     "shell.execute_reply": "2023-12-03T12:24:50.005119Z"
    },
    "papermill": {
     "duration": 0.073567,
     "end_time": "2023-12-03T12:24:50.009570",
     "exception": false,
     "start_time": "2023-12-03T12:24:49.936003",
     "status": "completed"
    },
    "tags": []
   },
   "outputs": [],
   "source": [
    "y_predicted=model.predict(x_test_count)"
   ]
  },
  {
   "cell_type": "code",
   "execution_count": 23,
   "id": "29956528",
   "metadata": {
    "execution": {
     "iopub.execute_input": "2023-12-03T12:24:50.036990Z",
     "iopub.status.busy": "2023-12-03T12:24:50.035664Z",
     "iopub.status.idle": "2023-12-03T12:24:50.090389Z",
     "shell.execute_reply": "2023-12-03T12:24:50.089048Z"
    },
    "papermill": {
     "duration": 0.071786,
     "end_time": "2023-12-03T12:24:50.093437",
     "exception": false,
     "start_time": "2023-12-03T12:24:50.021651",
     "status": "completed"
    },
    "tags": []
   },
   "outputs": [
    {
     "data": {
      "text/plain": [
       "0.9754743359296985"
      ]
     },
     "execution_count": 23,
     "metadata": {},
     "output_type": "execute_result"
    }
   ],
   "source": [
    "model.score(x_test_count,y_test)"
   ]
  },
  {
   "cell_type": "code",
   "execution_count": 24,
   "id": "59feffbd",
   "metadata": {
    "execution": {
     "iopub.execute_input": "2023-12-03T12:24:50.121450Z",
     "iopub.status.busy": "2023-12-03T12:24:50.120962Z",
     "iopub.status.idle": "2023-12-03T12:24:50.136136Z",
     "shell.execute_reply": "2023-12-03T12:24:50.134761Z"
    },
    "papermill": {
     "duration": 0.033231,
     "end_time": "2023-12-03T12:24:50.139037",
     "exception": false,
     "start_time": "2023-12-03T12:24:50.105806",
     "status": "completed"
    },
    "tags": []
   },
   "outputs": [
    {
     "data": {
      "text/plain": [
       "array([[11670,   185],\n",
       "       [  429, 12751]])"
      ]
     },
     "execution_count": 24,
     "metadata": {},
     "output_type": "execute_result"
    }
   ],
   "source": [
    "from sklearn.metrics import confusion_matrix\n",
    "cm=confusion_matrix(y_test,y_predicted)\n",
    "cm"
   ]
  },
  {
   "cell_type": "code",
   "execution_count": 25,
   "id": "bb263b18",
   "metadata": {
    "execution": {
     "iopub.execute_input": "2023-12-03T12:24:50.166950Z",
     "iopub.status.busy": "2023-12-03T12:24:50.165580Z",
     "iopub.status.idle": "2023-12-03T12:24:50.171370Z",
     "shell.execute_reply": "2023-12-03T12:24:50.170338Z"
    },
    "papermill": {
     "duration": 0.022434,
     "end_time": "2023-12-03T12:24:50.174102",
     "exception": false,
     "start_time": "2023-12-03T12:24:50.151668",
     "status": "completed"
    },
    "tags": []
   },
   "outputs": [],
   "source": [
    "import matplotlib.pyplot as plt"
   ]
  },
  {
   "cell_type": "code",
   "execution_count": 26,
   "id": "5d921a66",
   "metadata": {
    "execution": {
     "iopub.execute_input": "2023-12-03T12:24:50.201691Z",
     "iopub.status.busy": "2023-12-03T12:24:50.200532Z",
     "iopub.status.idle": "2023-12-03T12:24:50.558941Z",
     "shell.execute_reply": "2023-12-03T12:24:50.557584Z"
    },
    "papermill": {
     "duration": 0.375626,
     "end_time": "2023-12-03T12:24:50.562038",
     "exception": false,
     "start_time": "2023-12-03T12:24:50.186412",
     "status": "completed"
    },
    "tags": []
   },
   "outputs": [],
   "source": [
    "import seaborn as sns"
   ]
  },
  {
   "cell_type": "code",
   "execution_count": 27,
   "id": "5c9d5f0d",
   "metadata": {
    "execution": {
     "iopub.execute_input": "2023-12-03T12:24:50.588642Z",
     "iopub.status.busy": "2023-12-03T12:24:50.588152Z",
     "iopub.status.idle": "2023-12-03T12:24:50.965900Z",
     "shell.execute_reply": "2023-12-03T12:24:50.964375Z"
    },
    "papermill": {
     "duration": 0.394525,
     "end_time": "2023-12-03T12:24:50.968864",
     "exception": false,
     "start_time": "2023-12-03T12:24:50.574339",
     "status": "completed"
    },
    "tags": []
   },
   "outputs": [
    {
     "data": {
      "text/plain": [
       "Text(50.722222222222214, 0.5, 'predicted')"
      ]
     },
     "execution_count": 27,
     "metadata": {},
     "output_type": "execute_result"
    },
    {
     "data": {
      "image/png": "[encoded data removed]",
      "text/plain": [
       "<Figure size 640x480 with 2 Axes>"
      ]
     },
     "metadata": {},
     "output_type": "display_data"
    }
   ],
   "source": [
    "sns.heatmap(cm,annot=True)\n",
    "plt.xlabel('actual')\n",
    "plt.ylabel('predicted')"
   ]
  },
  {
   "cell_type": "code",
   "execution_count": 28,
   "id": "f354a05a",
   "metadata": {
    "execution": {
     "iopub.execute_input": "2023-12-03T12:24:50.997243Z",
     "iopub.status.busy": "2023-12-03T12:24:50.996765Z",
     "iopub.status.idle": "2023-12-03T12:24:51.057254Z",
     "shell.execute_reply": "2023-12-03T12:24:51.055704Z"
    },
    "papermill": {
     "duration": 0.078086,
     "end_time": "2023-12-03T12:24:51.060105",
     "exception": false,
     "start_time": "2023-12-03T12:24:50.982019",
     "status": "completed"
    },
    "tags": []
   },
   "outputs": [
    {
     "name": "stdout",
     "output_type": "stream",
     "text": [
      "              precision    recall  f1-score   support\n",
      "\n",
      "           0       0.96      0.98      0.97     11855\n",
      "           1       0.99      0.97      0.98     13180\n",
      "\n",
      "    accuracy                           0.98     25035\n",
      "   macro avg       0.98      0.98      0.98     25035\n",
      "weighted avg       0.98      0.98      0.98     25035\n",
      "\n"
     ]
    }
   ],
   "source": [
    "from sklearn.metrics import classification_report\n",
    "print(classification_report(y_test,y_predicted))  "
   ]
  },
  {
   "cell_type": "code",
   "execution_count": null,
   "id": "511934e0",
   "metadata": {
    "papermill": {
     "duration": 0.012554,
     "end_time": "2023-12-03T12:24:51.085678",
     "exception": false,
     "start_time": "2023-12-03T12:24:51.073124",
     "status": "completed"
    },
    "tags": []
   },
   "outputs": [],
   "source": []
  }
 ],
 "metadata": {
  "kaggle": {
   "accelerator": "none",
   "dataSources": [
    {
     "datasetId": 3962399,
     "sourceId": 6897944,
     "sourceType": "datasetVersion"
    }
   ],
   "dockerImageVersionId": 30587,
   "isGpuEnabled": false,
   "isInternetEnabled": false,
   "language": "python",
   "sourceType": "notebook"
  },
  "kernelspec": {
   "display_name": "Python 3",
   "language": "python",
   "name": "python3"
  },
  "language_info": {
   "codemirror_mode": {
    "name": "ipython",
    "version": 3
   },
   "file_extension": ".py",
   "mimetype": "text/x-python",
   "name": "python",
   "nbconvert_exporter": "python",
   "pygments_lexer": "ipython3",
   "version": "3.10.12"
  },
  "papermill": {
   "default_parameters": {},
   "duration": 40.535123,
   "end_time": "2023-12-03T12:24:52.024028",
   "environment_variables": {},
   "exception": null,
   "input_path": "__notebook__.ipynb",
   "output_path": "__notebook__.ipynb",
   "parameters": {},
   "start_time": "2023-12-03T12:24:11.488905",
   "version": "2.4.0"
  }
 },
 "nbformat": 4,
 "nbformat_minor": 5
}
